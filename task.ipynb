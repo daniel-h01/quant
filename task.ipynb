{
 "cells": [
  {
   "cell_type": "code",
   "execution_count": 166,
   "metadata": {},
   "outputs": [],
   "source": [
    "%matplotlib inline\n",
    "import json\n",
    "import pandas as pd\n",
    "import numpy as np\n",
    "import matplotlib.pyplot as plt\n",
    "with open('raw.chartblock.json') as f:\n",
    "    json_str = f.read()"
   ]
  },
  {
   "cell_type": "code",
   "execution_count": 167,
   "metadata": {},
   "outputs": [],
   "source": [
    "data = pd.read_json(json_str)"
   ]
  },
  {
   "cell_type": "code",
   "execution_count": 168,
   "metadata": {},
   "outputs": [
    {
     "data": {
      "text/plain": [
       "[[1613480802018319, 0.056936999999999995],\n",
       " [1613480802106023, 0.056935],\n",
       " [1613480802191776, 0.056935],\n",
       " [1613480802277234, 0.056935],\n",
       " [1613480802367687, 0.056935]]"
      ]
     },
     "execution_count": 168,
     "metadata": {},
     "output_type": "execute_result"
    }
   ],
   "source": [
    "data.ticks[0][0:5]"
   ]
  },
  {
   "cell_type": "code",
   "execution_count": 169,
   "metadata": {
    "scrolled": true
   },
   "outputs": [
    {
     "data": {
      "text/html": [
       "<div>\n",
       "<style scoped>\n",
       "    .dataframe tbody tr th:only-of-type {\n",
       "        vertical-align: middle;\n",
       "    }\n",
       "\n",
       "    .dataframe tbody tr th {\n",
       "        vertical-align: top;\n",
       "    }\n",
       "\n",
       "    .dataframe thead th {\n",
       "        text-align: right;\n",
       "    }\n",
       "</style>\n",
       "<table border=\"1\" class=\"dataframe\">\n",
       "  <thead>\n",
       "    <tr style=\"text-align: right;\">\n",
       "      <th></th>\n",
       "      <th>id</th>\n",
       "      <th>name</th>\n",
       "      <th>ticks</th>\n",
       "      <th>timeSpan</th>\n",
       "    </tr>\n",
       "  </thead>\n",
       "  <tbody>\n",
       "    <tr>\n",
       "      <th>0</th>\n",
       "      <td>e60e8371-1037-56d1-8859-5b353ff9cb2e</td>\n",
       "      <td>bid</td>\n",
       "      <td>[[1613480802018319, 0.056936999999999995], [16...</td>\n",
       "      <td>3600000000</td>\n",
       "    </tr>\n",
       "    <tr>\n",
       "      <th>1</th>\n",
       "      <td>9a13bcd4-695c-59a4-8713-e642721ef97d</td>\n",
       "      <td>ask</td>\n",
       "      <td>[[1613480802018319, 0.056939], [16134808021060...</td>\n",
       "      <td>3600000000</td>\n",
       "    </tr>\n",
       "  </tbody>\n",
       "</table>\n",
       "</div>"
      ],
      "text/plain": [
       "                                     id name  \\\n",
       "0  e60e8371-1037-56d1-8859-5b353ff9cb2e  bid   \n",
       "1  9a13bcd4-695c-59a4-8713-e642721ef97d  ask   \n",
       "\n",
       "                                               ticks    timeSpan  \n",
       "0  [[1613480802018319, 0.056936999999999995], [16...  3600000000  \n",
       "1  [[1613480802018319, 0.056939], [16134808021060...  3600000000  "
      ]
     },
     "execution_count": 169,
     "metadata": {},
     "output_type": "execute_result"
    }
   ],
   "source": [
    "data"
   ]
  },
  {
   "cell_type": "markdown",
   "metadata": {},
   "source": [
    "Мы будем пользоваться целыми числами для избежания ошибок округления. Для этого все цены увеличим в $10^6$ раз."
   ]
  },
  {
   "cell_type": "code",
   "execution_count": 170,
   "metadata": {},
   "outputs": [],
   "source": [
    "for i in data.ticks[0]:\n",
    "    i[1] *= 10**6\n",
    "    i[1] = round(i[1])"
   ]
  },
  {
   "cell_type": "code",
   "execution_count": 171,
   "metadata": {},
   "outputs": [],
   "source": [
    "for i in data.ticks[1]:\n",
    "    i[1] *= 10**6\n",
    "    i[1] = round(i[1])"
   ]
  },
  {
   "cell_type": "code",
   "execution_count": 172,
   "metadata": {},
   "outputs": [],
   "source": [
    "bid = np.array(data.ticks[0])\n",
    "ask = np.array(data.ticks[1])"
   ]
  },
  {
   "cell_type": "code",
   "execution_count": 173,
   "metadata": {},
   "outputs": [],
   "source": [
    "bid = bid[:, 1]\n",
    "ask = ask[:, 1]"
   ]
  },
  {
   "cell_type": "code",
   "execution_count": 174,
   "metadata": {},
   "outputs": [
    {
     "data": {
      "text/plain": [
       "array([56937, 56935, 56935, 56935, 56935])"
      ]
     },
     "execution_count": 174,
     "metadata": {},
     "output_type": "execute_result"
    }
   ],
   "source": [
    "bid[0:5]"
   ]
  },
  {
   "cell_type": "code",
   "execution_count": 175,
   "metadata": {},
   "outputs": [
    {
     "data": {
      "text/plain": [
       "array([56939, 56939, 56939, 56939, 56939])"
      ]
     },
     "execution_count": 175,
     "metadata": {},
     "output_type": "execute_result"
    }
   ],
   "source": [
    "ask[0:5]"
   ]
  },
  {
   "cell_type": "markdown",
   "metadata": {},
   "source": [
    "Посмотрим на спред"
   ]
  },
  {
   "cell_type": "code",
   "execution_count": 176,
   "metadata": {},
   "outputs": [],
   "source": [
    "spread = ask - bid"
   ]
  },
  {
   "cell_type": "code",
   "execution_count": 177,
   "metadata": {},
   "outputs": [
    {
     "name": "stdout",
     "output_type": "stream",
     "text": [
      "10.99479648762915\n",
      "8.0\n"
     ]
    }
   ],
   "source": [
    "print(spread.mean())\n",
    "print(np.median(spread))"
   ]
  },
  {
   "cell_type": "code",
   "execution_count": 179,
   "metadata": {},
   "outputs": [
    {
     "data": {
      "text/plain": [
       "[<matplotlib.lines.Line2D at 0x7fb8001599d0>]"
      ]
     },
     "execution_count": 179,
     "metadata": {},
     "output_type": "execute_result"
    },
    {
     "data": {
      "image/png": "[encoded data removed]",
      "text/plain": [
       "<Figure size 432x288 with 1 Axes>"
      ]
     },
     "metadata": {
      "needs_background": "light"
     },
     "output_type": "display_data"
    }
   ],
   "source": [
    "plt.plot(spread, color='red', linewidth=0.07)"
   ]
  },
  {
   "cell_type": "markdown",
   "metadata": {},
   "source": [
    "Теперь напишем алгоритм для торговли."
   ]
  },
  {
   "cell_type": "code",
   "execution_count": 193,
   "metadata": {},
   "outputs": [],
   "source": [
    "def algo(money, bid, ask):\n",
    "    \"\"\"\n",
    "    money - start money\n",
    "    bid - array of bid price * 10^6\n",
    "    ask - array of ask price * 10^6\n",
    "    \"\"\"\n",
    "    num_of_stocks = 0\n",
    "    num_of_purchased = 0\n",
    "    prev_ask_price = 0 # ask price at last purchase\n",
    "    for i in range(len(bid) - 1):\n",
    "        if ask[i] < bid[i + 1] and ask[i] <= money:\n",
    "            prev_ask_price = ask[i]\n",
    "            num_of_stocks += money // ask[i]\n",
    "            num_of_purchased += money // ask[i]\n",
    "            money = money % ask[i] # buy stocks as much as I can\n",
    "        elif bid[i] > bid[i + 1] and bid[i] > prev_ask_price and num_of_stocks != 0:\n",
    "            money += bid[i] * num_of_stocks\n",
    "            num_of_stocks = 0 # sell stocks as much as I can\n",
    "    i = -1\n",
    "    money += bid[i] * num_of_stocks\n",
    "    num_of_stocks = 0 # sell stocks as much as I can\n",
    "    return money, num_of_stocks, num_of_purchased"
   ]
  },
  {
   "cell_type": "markdown",
   "metadata": {},
   "source": [
    "Алгоритм работает так:\n",
    "1) Если мы можем купить сейчай, а продать на следующей итерации с профитом, то мы покупаем акций на всю сумму. (но не обязательно мы их продадим на след. итерации)\n",
    "\n",
    "2) Если мы можем продать акции с выгодой, при этом мы находимся в локальном максимуме bid'а, то мы продаем.\n",
    "\n",
    "3) На последней итерации продаем оставшиеся акции."
   ]
  },
  {
   "cell_type": "code",
   "execution_count": 202,
   "metadata": {},
   "outputs": [],
   "source": [
    "x, y, z = algo(10**6, bid, ask)"
   ]
  },
  {
   "cell_type": "code",
   "execution_count": 204,
   "metadata": {},
   "outputs": [
    {
     "name": "stdout",
     "output_type": "stream",
     "text": [
      "1271917\n",
      "0\n",
      "12444\n"
     ]
    }
   ],
   "source": [
    "print(x, y, z, sep='\\n')"
   ]
  },
  {
   "cell_type": "code",
   "execution_count": 201,
   "metadata": {},
   "outputs": [
    {
     "data": {
      "text/plain": [
       "27.191699999999997"
      ]
     },
     "execution_count": 201,
     "metadata": {},
     "output_type": "execute_result"
    }
   ],
   "source": [
    "(x/10**6 - 1) * 100"
   ]
  },
  {
   "cell_type": "markdown",
   "metadata": {},
   "source": [
    "Прибыль составила 27 процентов."
   ]
  }
 ],
 "metadata": {
  "kernelspec": {
   "display_name": "Python 3",
   "language": "python",
   "name": "python3"
  },
  "language_info": {
   "codemirror_mode": {
    "name": "ipython",
    "version": 3
   },
   "file_extension": ".py",
   "mimetype": "text/x-python",
   "name": "python",
   "nbconvert_exporter": "python",
   "pygments_lexer": "ipython3",
   "version": "3.8.5"
  }
 },
 "nbformat": 4,
 "nbformat_minor": 4
}
